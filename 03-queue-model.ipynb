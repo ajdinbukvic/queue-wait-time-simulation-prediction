{
 "cells": [
  {
   "cell_type": "code",
   "execution_count": 23,
   "id": "83a10ddf",
   "metadata": {},
   "outputs": [],
   "source": [
    "import pandas as pd\n",
    "import numpy as np\n",
    "from math import factorial\n",
    "from scipy import stats\n",
    "from scipy.optimize import brentq "
   ]
  },
  {
   "cell_type": "code",
   "execution_count": 24,
   "id": "5458c62c",
   "metadata": {},
   "outputs": [
    {
     "data": {
      "text/html": [
       "<div>\n",
       "<style scoped>\n",
       "    .dataframe tbody tr th:only-of-type {\n",
       "        vertical-align: middle;\n",
       "    }\n",
       "\n",
       "    .dataframe tbody tr th {\n",
       "        vertical-align: top;\n",
       "    }\n",
       "\n",
       "    .dataframe thead th {\n",
       "        text-align: right;\n",
       "    }\n",
       "</style>\n",
       "<table border=\"1\" class=\"dataframe\">\n",
       "  <thead>\n",
       "    <tr style=\"text-align: right;\">\n",
       "      <th></th>\n",
       "      <th>visit_id</th>\n",
       "      <th>patient_id</th>\n",
       "      <th>hospital_id</th>\n",
       "      <th>hospital_name</th>\n",
       "      <th>region</th>\n",
       "      <th>visit_date</th>\n",
       "      <th>day_of_week</th>\n",
       "      <th>season</th>\n",
       "      <th>time_of_day</th>\n",
       "      <th>urgency_level</th>\n",
       "      <th>nurse_to_patient_ratio</th>\n",
       "      <th>specialist_availability</th>\n",
       "      <th>facility_size_beds</th>\n",
       "      <th>time_to_registration_min</th>\n",
       "      <th>time_to_triage_min</th>\n",
       "      <th>time_to_medical_professional_min</th>\n",
       "      <th>total_wait_time_min</th>\n",
       "      <th>patient_outcome</th>\n",
       "      <th>patient_satisfaction</th>\n",
       "      <th>hour</th>\n",
       "    </tr>\n",
       "  </thead>\n",
       "  <tbody>\n",
       "    <tr>\n",
       "      <th>0</th>\n",
       "      <td>HOSP-1-20240210-0001</td>\n",
       "      <td>PAT-00001</td>\n",
       "      <td>HOSP-1</td>\n",
       "      <td>Springfield General Hospital</td>\n",
       "      <td>Urban</td>\n",
       "      <td>2024-02-10 20:20:56</td>\n",
       "      <td>Saturday</td>\n",
       "      <td>Winter</td>\n",
       "      <td>Late Morning</td>\n",
       "      <td>Medium</td>\n",
       "      <td>4</td>\n",
       "      <td>3</td>\n",
       "      <td>92</td>\n",
       "      <td>17</td>\n",
       "      <td>22</td>\n",
       "      <td>66</td>\n",
       "      <td>105</td>\n",
       "      <td>Discharged</td>\n",
       "      <td>1</td>\n",
       "      <td>20</td>\n",
       "    </tr>\n",
       "    <tr>\n",
       "      <th>1</th>\n",
       "      <td>HOSP-3-20241128-0001</td>\n",
       "      <td>PAT-00002</td>\n",
       "      <td>HOSP-3</td>\n",
       "      <td>Northside Community Hospital</td>\n",
       "      <td>Rural</td>\n",
       "      <td>2024-11-28 02:07:47</td>\n",
       "      <td>Thursday</td>\n",
       "      <td>Fall</td>\n",
       "      <td>Evening</td>\n",
       "      <td>Medium</td>\n",
       "      <td>4</td>\n",
       "      <td>0</td>\n",
       "      <td>38</td>\n",
       "      <td>9</td>\n",
       "      <td>30</td>\n",
       "      <td>30</td>\n",
       "      <td>69</td>\n",
       "      <td>Discharged</td>\n",
       "      <td>3</td>\n",
       "      <td>2</td>\n",
       "    </tr>\n",
       "    <tr>\n",
       "      <th>2</th>\n",
       "      <td>HOSP-3-20240930-0002</td>\n",
       "      <td>PAT-00003</td>\n",
       "      <td>HOSP-3</td>\n",
       "      <td>Northside Community Hospital</td>\n",
       "      <td>Rural</td>\n",
       "      <td>2024-09-30 04:02:28</td>\n",
       "      <td>Monday</td>\n",
       "      <td>Fall</td>\n",
       "      <td>Evening</td>\n",
       "      <td>Low</td>\n",
       "      <td>5</td>\n",
       "      <td>1</td>\n",
       "      <td>38</td>\n",
       "      <td>38</td>\n",
       "      <td>40</td>\n",
       "      <td>125</td>\n",
       "      <td>203</td>\n",
       "      <td>Discharged</td>\n",
       "      <td>1</td>\n",
       "      <td>4</td>\n",
       "    </tr>\n",
       "  </tbody>\n",
       "</table>\n",
       "</div>"
      ],
      "text/plain": [
       "               visit_id patient_id hospital_id                 hospital_name  \\\n",
       "0  HOSP-1-20240210-0001  PAT-00001      HOSP-1  Springfield General Hospital   \n",
       "1  HOSP-3-20241128-0001  PAT-00002      HOSP-3  Northside Community Hospital   \n",
       "2  HOSP-3-20240930-0002  PAT-00003      HOSP-3  Northside Community Hospital   \n",
       "\n",
       "  region          visit_date day_of_week  season   time_of_day urgency_level  \\\n",
       "0  Urban 2024-02-10 20:20:56    Saturday  Winter  Late Morning        Medium   \n",
       "1  Rural 2024-11-28 02:07:47    Thursday    Fall       Evening        Medium   \n",
       "2  Rural 2024-09-30 04:02:28      Monday    Fall       Evening           Low   \n",
       "\n",
       "   nurse_to_patient_ratio  specialist_availability  facility_size_beds  \\\n",
       "0                       4                        3                  92   \n",
       "1                       4                        0                  38   \n",
       "2                       5                        1                  38   \n",
       "\n",
       "   time_to_registration_min  time_to_triage_min  \\\n",
       "0                        17                  22   \n",
       "1                         9                  30   \n",
       "2                        38                  40   \n",
       "\n",
       "   time_to_medical_professional_min  total_wait_time_min patient_outcome  \\\n",
       "0                                66                  105      Discharged   \n",
       "1                                30                   69      Discharged   \n",
       "2                               125                  203      Discharged   \n",
       "\n",
       "   patient_satisfaction  hour  \n",
       "0                     1    20  \n",
       "1                     3     2  \n",
       "2                     1     4  "
      ]
     },
     "execution_count": 24,
     "metadata": {},
     "output_type": "execute_result"
    }
   ],
   "source": [
    "df = pd.read_csv(\"ER Wait Time Dataset.csv\",\n",
    "                 parse_dates=[\"Visit Date\"]) \n",
    "df[\"Hour\"] = df[\"Visit Date\"].dt.hour\n",
    "\n",
    "df.columns = df.columns.str.strip().str.lower().str.replace(\" \", \"_\").str.replace(\"(\", \"\").str.replace(\")\", \"\").str.replace(\"-\", \"_\")\n",
    "\n",
    "df.head(3)"
   ]
  },
  {
   "cell_type": "code",
   "execution_count": 25,
   "id": "2dcbab8f",
   "metadata": {},
   "outputs": [
    {
     "name": "stdout",
     "output_type": "stream",
     "text": [
      "Bolnice u skupu: ['HOSP-1' 'HOSP-3' 'HOSP-2' 'HOSP-5' 'HOSP-4']\n"
     ]
    }
   ],
   "source": [
    "print(\"Bolnice u skupu:\", df.hospital_id.unique())"
   ]
  },
  {
   "cell_type": "code",
   "execution_count": 26,
   "id": "db2707a6",
   "metadata": {},
   "outputs": [],
   "source": [
    "# hosp = \"HOSP-1\"\n",
    "# df = df[df.hospital_id == hosp].copy()\n",
    "# print(f\"Redova za {hosp}:\", len(df))"
   ]
  },
  {
   "cell_type": "code",
   "execution_count": 27,
   "id": "03c487c9",
   "metadata": {},
   "outputs": [
    {
     "name": "stdout",
     "output_type": "stream",
     "text": [
      "KS p = 0.4895\n"
     ]
    }
   ],
   "source": [
    "ia = df[\"visit_date\"].sort_values().diff().dt.total_seconds().dropna() / 60\n",
    "\n",
    "lmbda_hat = 1 / ia.mean()                     \n",
    "D, p = stats.kstest(ia, 'expon', args=(0, 1/lmbda_hat))\n",
    "print(f\"KS p = {p:.4f}\")\n",
    "# Ako p > 0.05 -> eksponencijalna raspodjela ⇒ A=M (Poisson dolasci)"
   ]
  },
  {
   "cell_type": "code",
   "execution_count": 28,
   "id": "0581e179",
   "metadata": {},
   "outputs": [
    {
     "name": "stdout",
     "output_type": "stream",
     "text": [
      "λ = 3.4722222222222223 (globalno)\n"
     ]
    }
   ],
   "source": [
    "lambda_per_hour = df.groupby(\"hour\").size().mean()\n",
    "lambda_per_minute = lambda_per_hour / 60\n",
    "print(f\"λ = {lambda_per_minute} (globalno)\")"
   ]
  },
  {
   "cell_type": "code",
   "execution_count": 29,
   "id": "29f753af",
   "metadata": {},
   "outputs": [],
   "source": [
    "# mean_service_time = 15   # 15 minuta po pacijentu\n",
    "# std_service_time = 5\n",
    "# mu = 1 / mean_service_time  \n",
    "# print(f\"μ = {mu}\")\n",
    "# print(f\"σ = {std_service_time}\")"
   ]
  },
  {
   "cell_type": "code",
   "execution_count": 30,
   "id": "99600ac5",
   "metadata": {},
   "outputs": [
    {
     "name": "stdout",
     "output_type": "stream",
     "text": [
      "Prosječno čekanje W (iz podataka): 81.92 min (globalno)\n"
     ]
    }
   ],
   "source": [
    "W_target = df[\"total_wait_time_min\"].mean()\n",
    "print(f\"Prosječno čekanje W (iz podataka): {W_target:.2f} min (globalno)\")"
   ]
  },
  {
   "cell_type": "code",
   "execution_count": 31,
   "id": "e5e098a1",
   "metadata": {},
   "outputs": [
    {
     "name": "stdout",
     "output_type": "stream",
     "text": [
      "c = 4 (globalno)\n"
     ]
    }
   ],
   "source": [
    "c = int(round(df[\"specialist_availability\"].mean()))\n",
    "print(f\"c = {c} (globalno)\")"
   ]
  },
  {
   "cell_type": "code",
   "execution_count": 32,
   "id": "03d270eb",
   "metadata": {},
   "outputs": [
    {
     "name": "stdout",
     "output_type": "stream",
     "text": [
      "λ = 13.70 pacijenata/dan ≈ 0.0095 pacijenata/min\n"
     ]
    }
   ],
   "source": [
    "df[\"visit_date\"] = pd.to_datetime(df[\"visit_date\"]).dt.date\n",
    "daily_counts = df.groupby(\"visit_date\").size()\n",
    "lambda_per_day = daily_counts.mean()\n",
    "lambda_per_minute = lambda_per_day / (24 * 60)\n",
    "print(f\"λ = {lambda_per_day:.2f} pacijenata/dan ≈ {lambda_per_minute:.4f} pacijenata/min\")"
   ]
  },
  {
   "cell_type": "code",
   "execution_count": 33,
   "id": "e6cc1c31",
   "metadata": {},
   "outputs": [
    {
     "name": "stdout",
     "output_type": "stream",
     "text": [
      "c = 4 doktora/dan ≈ 0.0095\n"
     ]
    }
   ],
   "source": [
    "c = int(round(df.groupby(\"visit_date\")[\"specialist_availability\"].mean().mean()))\n",
    "print(f\"c = {c} doktora/dan ≈ {lambda_per_minute:.4f}\")"
   ]
  },
  {
   "cell_type": "code",
   "execution_count": 34,
   "id": "1f3c8605",
   "metadata": {},
   "outputs": [
    {
     "name": "stdout",
     "output_type": "stream",
     "text": [
      "W = 81.34 (prosječno vrijeme u sistemu)\n"
     ]
    }
   ],
   "source": [
    "W_target = df.groupby(\"visit_date\")[\"total_wait_time_min\"].mean().mean()\n",
    "print(f\"W = {W_target:.2f} (prosječno vrijeme u sistemu)\")"
   ]
  },
  {
   "cell_type": "code",
   "execution_count": 35,
   "id": "acd502ab",
   "metadata": {},
   "outputs": [],
   "source": [
    "def P_wait(lmbda, mu, c):\n",
    "    rho = lmbda / (c * mu)\n",
    "    if rho >= 1:\n",
    "        return 1\n",
    "    sum1 = sum((c * rho) ** k / factorial(k) for k in range(c))\n",
    "    sum2 = (c * rho) ** c / (factorial(c) * (1 - rho))\n",
    "    return sum2 / (sum1 + sum2)\n",
    "\n",
    "def Wq_mm(lmbda, mu, c):\n",
    "    Pw = P_wait(lmbda, mu, c)\n",
    "    return Pw / (c * mu - lmbda)\n",
    "\n",
    "def W_total(mu, Cv2=1.0):\n",
    "    Wq = 0.5 * (1 + Cv2) * Wq_mm(lambda_per_minute, mu, c)\n",
    "    return Wq + 1 / mu"
   ]
  },
  {
   "cell_type": "code",
   "execution_count": 36,
   "id": "6f1319cf",
   "metadata": {},
   "outputs": [
    {
     "name": "stdout",
     "output_type": "stream",
     "text": [
      "μ = 0.0123 (pregleda/min)\n",
      "Trajanje pregleda (1/μ): 81.12 min\n",
      "Prosječno vrijeme čekanja: 0.21 min/dan\n"
     ]
    }
   ],
   "source": [
    "mu_min = 1 / 120  \n",
    "mu_max = 1 / 5\n",
    "\n",
    "try:\n",
    "    mu_star = brentq(lambda mu: W_total(mu) - W_target, mu_min, mu_max)\n",
    "    print(f\"μ = {mu_star:.4f} (pregleda/min)\")\n",
    "    print(f\"Trajanje pregleda (1/μ): {1 / mu_star:.2f} min\")\n",
    "    print(f\"Prosječno vrijeme čekanja: {(W_total(mu_star) - (1 / mu_star)):.2f} min/dan\")\n",
    "except ValueError:\n",
    "    print(\"Greška: nije moguće naći μ koje daje W ≈\", W_target)"
   ]
  },
  {
   "cell_type": "code",
   "execution_count": 37,
   "id": "f1caafd3",
   "metadata": {},
   "outputs": [],
   "source": [
    "rho = lambda_per_minute / (c * mu_star)\n",
    "\n",
    "cv = 1.0\n",
    "\n",
    "def erlang_c_formula(c, rho):\n",
    "    sum1 = sum([(c * rho) ** k / factorial(k) for k in range(c)])\n",
    "    sum2 = (c * rho) ** c / (factorial(c) * (1 - rho))\n",
    "    P_wait = sum2 / (sum1 + sum2)\n",
    "    return P_wait\n",
    "\n",
    "if rho < 1:\n",
    "    P_wait = erlang_c_formula(c, rho)\n",
    "    Wq_MMc = P_wait / (c * mu_star - lambda_per_minute)\n",
    "    Wq = ((cv ** 2) + 1) / 2 * Wq_MMc\n",
    "    W = Wq + 1 / mu_star\n",
    "    Lq = lambda_per_minute * Wq\n",
    "    L = lambda_per_minute * W\n",
    "else:\n",
    "    Wq = np.inf\n",
    "    W = np.inf\n",
    "    Lq = np.inf\n",
    "    L = np.inf"
   ]
  },
  {
   "cell_type": "code",
   "execution_count": 38,
   "id": "ae30ff9e",
   "metadata": {},
   "outputs": [
    {
     "name": "stdout",
     "output_type": "stream",
     "text": [
      "λ = 0.0095 dolazaka/min\n",
      "μ = 0.0123 servisa/min (vrijeme servisa = 81.12481350379653 min)\n",
      "c = 4 doktora\n",
      "ρ = 0.1929 iskorištenost\n",
      "Wq = 0.21 min (prosječno čekanje u redu)\n",
      "W = 81.34 min (ukupno vrijeme u sistemu)\n",
      "Lq = 0.00 pacijenata u redu\n",
      "L = 0.77 pacijenata u sistemu\n"
     ]
    }
   ],
   "source": [
    "print(f\"λ = {lambda_per_minute:.4f} dolazaka/min\")\n",
    "print(f\"μ = {mu_star:.4f} servisa/min (vrijeme servisa = {1 / mu_star} min)\")\n",
    "print(f\"c = {c} doktora\")\n",
    "print(f\"ρ = {rho:.4f} iskorištenost\")\n",
    "\n",
    "if rho < 1:\n",
    "    print(f\"Wq = {Wq:.2f} min (prosječno čekanje u redu)\")\n",
    "    print(f\"W = {W:.2f} min (ukupno vrijeme u sistemu)\")\n",
    "    print(f\"Lq = {Lq:.2f} pacijenata u redu\")\n",
    "    print(f\"L = {L:.2f} pacijenata u sistemu\")\n",
    "else:\n",
    "    print(\"Sistem je nestabilan jer je ρ ≥ 1 (preopterećen)\")"
   ]
  },
  {
   "cell_type": "code",
   "execution_count": 39,
   "id": "496caa26",
   "metadata": {},
   "outputs": [
    {
     "name": "stdout",
     "output_type": "stream",
     "text": [
      "hour\n",
      "0     0.010411\n",
      "1     0.009954\n",
      "2     0.008858\n",
      "3     0.007808\n",
      "4     0.008311\n",
      "5     0.010000\n",
      "6     0.009726\n",
      "7     0.009406\n",
      "8     0.010091\n",
      "9     0.009817\n",
      "10    0.010548\n",
      "11    0.010411\n",
      "12    0.008995\n",
      "13    0.009680\n",
      "14    0.009726\n",
      "15    0.009087\n",
      "16    0.010000\n",
      "17    0.008265\n",
      "18    0.009361\n",
      "19    0.009909\n",
      "20    0.009361\n",
      "21    0.010365\n",
      "22    0.009726\n",
      "23    0.008493\n",
      "dtype: float64\n"
     ]
    }
   ],
   "source": [
    "df[\"visit_date\"] = pd.to_datetime(df[\"visit_date\"])\n",
    "lambda_hour = (df.groupby(\"hour\").size() / df[\"visit_date\"].dt.date.nunique()) / 60\n",
    "print(lambda_hour)"
   ]
  },
  {
   "cell_type": "code",
   "execution_count": 40,
   "id": "4ca8bfa0",
   "metadata": {},
   "outputs": [
    {
     "name": "stdout",
     "output_type": "stream",
     "text": [
      "hour\n",
      "0     4\n",
      "1     4\n",
      "2     4\n",
      "3     4\n",
      "4     4\n",
      "5     4\n",
      "6     4\n",
      "7     4\n",
      "8     4\n",
      "9     4\n",
      "10    4\n",
      "11    4\n",
      "12    4\n",
      "13    4\n",
      "14    4\n",
      "15    4\n",
      "16    4\n",
      "17    4\n",
      "18    4\n",
      "19    3\n",
      "20    4\n",
      "21    4\n",
      "22    4\n",
      "23    4\n",
      "Name: specialist_availability, dtype: int64\n"
     ]
    }
   ],
   "source": [
    "c_hour = df.groupby(\"hour\")[\"specialist_availability\"].mean().round().astype(int)\n",
    "print(c_hour)"
   ]
  }
 ],
 "metadata": {
  "kernelspec": {
   "display_name": "Python 3",
   "language": "python",
   "name": "python3"
  },
  "language_info": {
   "codemirror_mode": {
    "name": "ipython",
    "version": 3
   },
   "file_extension": ".py",
   "mimetype": "text/x-python",
   "name": "python",
   "nbconvert_exporter": "python",
   "pygments_lexer": "ipython3",
   "version": "3.12.6"
  }
 },
 "nbformat": 4,
 "nbformat_minor": 5
}
